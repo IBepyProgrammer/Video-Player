{
 "cells": [
  {
   "cell_type": "markdown",
   "id": "4dd311cd",
   "metadata": {},
   "source": [
    "## Install the OpenCV library using pip.\n",
    "* Below is a link on how to install and get started with OpenCV\n",
    "* https://opencv.org/get-started/\n",
    "* https://pypi.org/project/opencv-python/"
   ]
  },
  {
   "cell_type": "code",
   "execution_count": 1,
   "id": "8b81c6bc",
   "metadata": {},
   "outputs": [
    {
     "name": "stdout",
     "output_type": "stream",
     "text": [
      "Looking in indexes: https://pypi.org/simple, https://pypi.ngc.nvidia.com\n",
      "Requirement already satisfied: opencv-python in d:\\projects\\video player\\video_player\\lib\\site-packages (4.9.0.80)\n",
      "Requirement already satisfied: numpy>=1.17.0 in d:\\projects\\video player\\video_player\\lib\\site-packages (from opencv-python) (1.26.4)\n"
     ]
    }
   ],
   "source": [
    "!pip install opencv-python"
   ]
  },
  {
   "cell_type": "markdown",
   "id": "33f1933d",
   "metadata": {},
   "source": [
    "## We then import the libraries required."
   ]
  },
  {
   "cell_type": "code",
   "execution_count": 2,
   "id": "d5d680d9",
   "metadata": {},
   "outputs": [],
   "source": [
    "import cv2\n",
    "import numpy as np"
   ]
  },
  {
   "cell_type": "code",
   "execution_count": 4,
   "id": "3ae433f5",
   "metadata": {},
   "outputs": [],
   "source": [
    "cap = cv2.VideoCapture(\"Sample_Video.mp4\")\n",
    "\n",
    "# We can then proceed in checking whether the file has been successfully opened.\n",
    "if (cap.isOpened())==False:\n",
    "    print(\"No video file found!\")\n",
    "    \n",
    "    \n",
    "while (cap.isOpened()):\n",
    "    ret, frame = cap.read()\n",
    "    frame = cv2.resize(frame, (800,600))\n",
    "    cv2.imshow(\"Webcam\", frame)\n",
    "    \n",
    "    key = cv2.waitKey(1)\n",
    "    if key == ord(\"q\"):\n",
    "        break\n",
    "\n",
    "cap.release()\n",
    "cv2.destroyAllWindows()"
   ]
  },
  {
   "cell_type": "code",
   "execution_count": null,
   "id": "18cf08cd",
   "metadata": {},
   "outputs": [],
   "source": []
  }
 ],
 "metadata": {
  "kernelspec": {
   "display_name": "Python 3 (ipykernel)",
   "language": "python",
   "name": "python3"
  },
  "language_info": {
   "codemirror_mode": {
    "name": "ipython",
    "version": 3
   },
   "file_extension": ".py",
   "mimetype": "text/x-python",
   "name": "python",
   "nbconvert_exporter": "python",
   "pygments_lexer": "ipython3",
   "version": "3.9.13"
  }
 },
 "nbformat": 4,
 "nbformat_minor": 5
}
